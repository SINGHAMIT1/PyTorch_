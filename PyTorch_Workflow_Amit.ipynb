{
  "nbformat": 4,
  "nbformat_minor": 0,
  "metadata": {
    "colab": {
      "provenance": [],
      "toc_visible": true
    },
    "kernelspec": {
      "name": "python3",
      "display_name": "Python 3"
    },
    "language_info": {
      "name": "python"
    },
    "gpuClass": "standard",
    "accelerator": "GPU"
  },
  "cells": [
    {
      "cell_type": "code",
      "execution_count": 1,
      "metadata": {
        "id": "h5ok2CQxi2jS"
      },
      "outputs": [],
      "source": [
        "# PyTorch Workflow"
      ]
    },
    {
      "cell_type": "code",
      "source": [
        "what_i_covering ={1: \"data (preparation and load)\",\n",
        "                  2: \"build model\",\n",
        "                  3: \"fit the model to data (training)\",\n",
        "                  4: \"making predictions and evaluating a model (inference)\",\n",
        "                  5: \"saving and loading a model\",\n",
        "                  6: \"putting it all together\"} \n",
        "          \n",
        "what_i_covering\n",
        "    \n"
      ],
      "metadata": {
        "colab": {
          "base_uri": "https://localhost:8080/"
        },
        "id": "4DZtz3P3jILk",
        "outputId": "a46ba13f-db2b-454d-db78-de9a9722c092"
      },
      "execution_count": 2,
      "outputs": [
        {
          "output_type": "execute_result",
          "data": {
            "text/plain": [
              "{1: 'data (preparation and load)',\n",
              " 2: 'build model',\n",
              " 3: 'fit the model to data (training)',\n",
              " 4: 'making predictions and evaluating a model (inference)',\n",
              " 5: 'saving and loading a model',\n",
              " 6: 'putting it all together'}"
            ]
          },
          "metadata": {},
          "execution_count": 2
        }
      ]
    },
    {
      "cell_type": "code",
      "source": [
        "# dependecies\n",
        "import torch\n",
        "from torch import nn # nn contains all of PyTorch's building blocks for neural network\n",
        "import matplotlib.pyplot as plt\n",
        "#check pytorch version\n",
        "torch.__version__"
      ],
      "metadata": {
        "colab": {
          "base_uri": "https://localhost:8080/",
          "height": 36
        },
        "id": "knfN-uNfjnWc",
        "outputId": "d1788d1c-b5d2-41dc-c62f-b1d047efd84f"
      },
      "execution_count": 3,
      "outputs": [
        {
          "output_type": "execute_result",
          "data": {
            "text/plain": [
              "'1.13.0+cu116'"
            ],
            "application/vnd.google.colaboratory.intrinsic+json": {
              "type": "string"
            }
          },
          "metadata": {},
          "execution_count": 3
        }
      ]
    },
    {
      "cell_type": "markdown",
      "source": [
        "# Data Preparing and loading\n",
        "## data can be anything\n",
        "* Excel Spreadsheet\n",
        "* Images of any kind\n",
        "* Videos ( YouTube has lots of data)\n",
        "* Audio like songs or podcasts\n",
        "* DNA\n",
        "* Text\n",
        "##Machine learning is a game of two parts\n",
        "1. Get data into numerical representations\n",
        "2. Build a model to learn patterns in that numerical representations\n"
      ],
      "metadata": {
        "id": "Rie2eUnklcyt"
      }
    },
    {
      "cell_type": "code",
      "source": [
        "# lets create some data using linear regression formula\n",
        "# slope = gradient\n",
        "# I will use linear regression formula to make a straight line with known parameters\n"
      ],
      "metadata": {
        "id": "etrEBdJdlJDd"
      },
      "execution_count": 4,
      "outputs": []
    },
    {
      "cell_type": "code",
      "source": [
        "# create known parameters\n",
        "# capital letter represents tensors and matrix and small letter represents vector\n",
        "\n",
        "# create data\n",
        "\n",
        "# create known parameters\n",
        "weight = 0.7\n",
        "bias = 0.3\n",
        "\n",
        "start = 0\n",
        "end =1\n",
        "step =0.02\n",
        "\n",
        "X= torch.arange(start, end, step).unsqueeze(dim=1)\n",
        "#unsqueeze = add an extra dimention\n",
        "y= weight*X+bias\n",
        "\n",
        "X[:10], y[:10]"
      ],
      "metadata": {
        "colab": {
          "base_uri": "https://localhost:8080/"
        },
        "id": "x9cztdSOnHzc",
        "outputId": "3f75e2b5-6a3e-4302-fad8-fd52caed4060"
      },
      "execution_count": 5,
      "outputs": [
        {
          "output_type": "execute_result",
          "data": {
            "text/plain": [
              "(tensor([[0.0000],\n",
              "         [0.0200],\n",
              "         [0.0400],\n",
              "         [0.0600],\n",
              "         [0.0800],\n",
              "         [0.1000],\n",
              "         [0.1200],\n",
              "         [0.1400],\n",
              "         [0.1600],\n",
              "         [0.1800]]), tensor([[0.3000],\n",
              "         [0.3140],\n",
              "         [0.3280],\n",
              "         [0.3420],\n",
              "         [0.3560],\n",
              "         [0.3700],\n",
              "         [0.3840],\n",
              "         [0.3980],\n",
              "         [0.4120],\n",
              "         [0.4260]]))"
            ]
          },
          "metadata": {},
          "execution_count": 5
        }
      ]
    },
    {
      "cell_type": "code",
      "source": [
        "len(X), len(y)"
      ],
      "metadata": {
        "colab": {
          "base_uri": "https://localhost:8080/"
        },
        "id": "w1cojZAUoUfK",
        "outputId": "d3c524d2-39b3-48bf-b38d-99701e5f80f2"
      },
      "execution_count": 6,
      "outputs": [
        {
          "output_type": "execute_result",
          "data": {
            "text/plain": [
              "(50, 50)"
            ]
          },
          "metadata": {},
          "execution_count": 6
        }
      ]
    },
    {
      "cell_type": "markdown",
      "source": [
        "### Splitting data into training and test sets\n",
        "* Training set : (Course Materials) Model learns pattern from here\n",
        "* Validation set : ( Practise Exam )- Tune model parameters\n",
        "* Test Set (Final Exam)- See if the model is ready for the wild\n",
        "* Generalization : The ability for a machine learning model to perform well on data it hasn't seen before"
      ],
      "metadata": {
        "id": "glPw_J1xpmod"
      }
    },
    {
      "cell_type": "code",
      "source": [
        "# create a test train split\n",
        "train_split = int(0.8*len(X))\n",
        "# train_split\n",
        "#X_train = train features, y_train = train labels\n",
        "#X_test = test features, y_test = test labels\n",
        "X_train, y_train = X[:train_split], y[:train_split]\n",
        "X_test, y_test = X[train_split:], y[train_split:]\n",
        "len(X_train), len(X_test), len(y_train), len(y_test)"
      ],
      "metadata": {
        "colab": {
          "base_uri": "https://localhost:8080/"
        },
        "id": "kPoyqlc2on6W",
        "outputId": "62556136-104e-41de-c2de-37e4c5984f05"
      },
      "execution_count": 7,
      "outputs": [
        {
          "output_type": "execute_result",
          "data": {
            "text/plain": [
              "(40, 10, 40, 10)"
            ]
          },
          "metadata": {},
          "execution_count": 7
        }
      ]
    },
    {
      "cell_type": "code",
      "source": [
        "X_train, y_train"
      ],
      "metadata": {
        "colab": {
          "base_uri": "https://localhost:8080/"
        },
        "id": "uOemc8E-r0Fr",
        "outputId": "3307fc20-c0a3-49ee-d109-b4e83fc546c5"
      },
      "execution_count": 8,
      "outputs": [
        {
          "output_type": "execute_result",
          "data": {
            "text/plain": [
              "(tensor([[0.0000],\n",
              "         [0.0200],\n",
              "         [0.0400],\n",
              "         [0.0600],\n",
              "         [0.0800],\n",
              "         [0.1000],\n",
              "         [0.1200],\n",
              "         [0.1400],\n",
              "         [0.1600],\n",
              "         [0.1800],\n",
              "         [0.2000],\n",
              "         [0.2200],\n",
              "         [0.2400],\n",
              "         [0.2600],\n",
              "         [0.2800],\n",
              "         [0.3000],\n",
              "         [0.3200],\n",
              "         [0.3400],\n",
              "         [0.3600],\n",
              "         [0.3800],\n",
              "         [0.4000],\n",
              "         [0.4200],\n",
              "         [0.4400],\n",
              "         [0.4600],\n",
              "         [0.4800],\n",
              "         [0.5000],\n",
              "         [0.5200],\n",
              "         [0.5400],\n",
              "         [0.5600],\n",
              "         [0.5800],\n",
              "         [0.6000],\n",
              "         [0.6200],\n",
              "         [0.6400],\n",
              "         [0.6600],\n",
              "         [0.6800],\n",
              "         [0.7000],\n",
              "         [0.7200],\n",
              "         [0.7400],\n",
              "         [0.7600],\n",
              "         [0.7800]]), tensor([[0.3000],\n",
              "         [0.3140],\n",
              "         [0.3280],\n",
              "         [0.3420],\n",
              "         [0.3560],\n",
              "         [0.3700],\n",
              "         [0.3840],\n",
              "         [0.3980],\n",
              "         [0.4120],\n",
              "         [0.4260],\n",
              "         [0.4400],\n",
              "         [0.4540],\n",
              "         [0.4680],\n",
              "         [0.4820],\n",
              "         [0.4960],\n",
              "         [0.5100],\n",
              "         [0.5240],\n",
              "         [0.5380],\n",
              "         [0.5520],\n",
              "         [0.5660],\n",
              "         [0.5800],\n",
              "         [0.5940],\n",
              "         [0.6080],\n",
              "         [0.6220],\n",
              "         [0.6360],\n",
              "         [0.6500],\n",
              "         [0.6640],\n",
              "         [0.6780],\n",
              "         [0.6920],\n",
              "         [0.7060],\n",
              "         [0.7200],\n",
              "         [0.7340],\n",
              "         [0.7480],\n",
              "         [0.7620],\n",
              "         [0.7760],\n",
              "         [0.7900],\n",
              "         [0.8040],\n",
              "         [0.8180],\n",
              "         [0.8320],\n",
              "         [0.8460]]))"
            ]
          },
          "metadata": {},
          "execution_count": 8
        }
      ]
    },
    {
      "cell_type": "markdown",
      "source": [
        "How might we better visualize the data?\n",
        "\n",
        "## Visualizing Data"
      ],
      "metadata": {
        "id": "X-zgg1mtuG4e"
      }
    },
    {
      "cell_type": "code",
      "source": [
        "def plot_predictions(train_data = X_train,\n",
        "                     train_label=y_train,\n",
        "                     test_data= X_test,\n",
        "                     test_label=y_test,\n",
        "                     predictions= None):\n",
        "  \"\"\"\n",
        "  plots training data, test data and compare prediction\n",
        "  \"\"\"\n",
        "  plt.figure(figsize=(10,7))\n",
        "\n",
        "  # Plot the training data\n",
        "  plt.scatter(train_data, train_label, c=\"b\",s=4, label=\"Training Datasets\")\n",
        "  #plot the test data\n",
        "  plt.scatter(test_data, test_label, c=\"g\", s=4, label=\"Testing Datasets\")\n",
        "\n",
        "  # are there predictions ?\n",
        "  if predictions is not None:\n",
        "    plt.scatter(test_data, predictions, c=\"r\", s=4, label=\"Predictions\")\n",
        "  \n",
        "  #show the legens\n",
        "  plt.legend(prop={\"size\": 14});\n",
        "\n",
        "\n"
      ],
      "metadata": {
        "id": "JPuMkW8btped"
      },
      "execution_count": 9,
      "outputs": []
    },
    {
      "cell_type": "code",
      "source": [
        "plot_predictions();"
      ],
      "metadata": {
        "colab": {
          "base_uri": "https://localhost:8080/",
          "height": 428
        },
        "id": "rmdL1DXdyMoU",
        "outputId": "8c4177b4-7088-4422-cdb0-78ff571c40bc"
      },
      "execution_count": 10,
      "outputs": [
        {
          "output_type": "display_data",
          "data": {
            "text/plain": [
              "<Figure size 720x504 with 1 Axes>"
            ],
            "image/png": "[encoded data removed]"
          },
          "metadata": {
            "needs_background": "light"
          }
        }
      ]
    },
    {
      "cell_type": "markdown",
      "source": [
        "## Building PyTorch Model\n",
        "what our model does:\n",
        "* start with random values (weight and bias)\n",
        "* look at the training data and adjust random values to better represent or get closer to the ideal values of weight and bias what we used to create the data\n",
        "\n",
        "How does it do so?\n",
        "Through two main algorithms\n",
        "1. Gradeint descent \n",
        "2. Backpropagation\n"
      ],
      "metadata": {
        "id": "fj40U6nvzXho"
      }
    },
    {
      "cell_type": "code",
      "source": [
        "# almost everthing in PyTorch inherits from nn.Module\n",
        "\n",
        "#creating a linear regression class\n",
        "# Subclass nn.Module, this contains all the building blocks of NN\n",
        "\n",
        "class LinearRegressionModel(nn.Module):\n",
        "  def __init__(self):\n",
        "    super().__init__()\n",
        "    #initialize model parameters inside constructos\n",
        "    self.weights = nn.Parameter(torch.randn(1,\n",
        "                                            requires_grad=True,\n",
        "                                            dtype=torch.float))\n",
        "    self.bias = nn.Parameter(torch.randn(1,\n",
        "                                         requires_grad=True,\n",
        "                                         dtype=torch.float))\n",
        "    \n",
        "    # Forward method to define the computation of the model\n",
        "\n",
        "  def forward(self, x: torch.Tensor) -> torch.Tensor: # \"x\" is the input data\n",
        "    return self.weights*x + self.bias # this is the regression formula\n"
      ],
      "metadata": {
        "id": "0S0Pb_lcyRIe"
      },
      "execution_count": 11,
      "outputs": []
    },
    {
      "cell_type": "markdown",
      "source": [
        "## Pytorch Model building essentials\n",
        "* torch.nn - contains all of the building blocks fort computational graphs ( a neural network can be considered as computational graph)\n",
        "*torch.nn.Parameters - what parameters should our model try and learn, often a PyTorch layer from torch.nn will set these for us\n",
        "*torch.nn.Module - the base clas for all neural network modules, if you subclass it, you should overwrite forward()\n",
        "*torch.optim -this is where the optimizers in PyTorch live, they will help the GD\n",
        "* def forward() -all nn.Module subclasses requires you to overwirte forward(), this method defines what happens in the forward computations"
      ],
      "metadata": {
        "id": "alJCCA2t7cxj"
      }
    },
    {
      "cell_type": "markdown",
      "source": [
        "## checking the contents of PyTorch Model\n",
        "\n",
        "can check the model parameters or what's inside in the model by using .parameters()"
      ],
      "metadata": {
        "id": "ouckHc2b_daR"
      }
    },
    {
      "cell_type": "code",
      "source": [
        "torch.randn(1)"
      ],
      "metadata": {
        "colab": {
          "base_uri": "https://localhost:8080/"
        },
        "id": "e-imhO3FAJ-i",
        "outputId": "bb74406c-926d-49ba-eeb4-c6d4d5dc4daa"
      },
      "execution_count": 12,
      "outputs": [
        {
          "output_type": "execute_result",
          "data": {
            "text/plain": [
              "tensor([0.2331])"
            ]
          },
          "metadata": {},
          "execution_count": 12
        }
      ]
    },
    {
      "cell_type": "code",
      "source": [
        "#create random seed\n",
        "torch.manual_seed(42)\n",
        "\n",
        "#create an instance of the model (this is a subclass of nn.Module)\n",
        "\n",
        "model_0 = LinearRegressionModel()\n",
        "\n",
        "#checking the parameters\n",
        "list(model_0.parameters())"
      ],
      "metadata": {
        "colab": {
          "base_uri": "https://localhost:8080/"
        },
        "id": "W3hWtbwM0W8U",
        "outputId": "3a3d144a-01e3-4ed5-e6f2-1964c341a263"
      },
      "execution_count": 13,
      "outputs": [
        {
          "output_type": "execute_result",
          "data": {
            "text/plain": [
              "[Parameter containing:\n",
              " tensor([0.3367], requires_grad=True), Parameter containing:\n",
              " tensor([0.1288], requires_grad=True)]"
            ]
          },
          "metadata": {},
          "execution_count": 13
        }
      ]
    },
    {
      "cell_type": "code",
      "source": [
        "# list the name of the parameters\n",
        "model_0.state_dict()"
      ],
      "metadata": {
        "colab": {
          "base_uri": "https://localhost:8080/"
        },
        "id": "2WOGAH4E_7aO",
        "outputId": "95298287-a2c4-4836-9e44-c9c0c2defa48"
      },
      "execution_count": 14,
      "outputs": [
        {
          "output_type": "execute_result",
          "data": {
            "text/plain": [
              "OrderedDict([('weights', tensor([0.3367])), ('bias', tensor([0.1288]))])"
            ]
          },
          "metadata": {},
          "execution_count": 14
        }
      ]
    },
    {
      "cell_type": "code",
      "source": [
        "weight, bias"
      ],
      "metadata": {
        "colab": {
          "base_uri": "https://localhost:8080/"
        },
        "id": "IdStRUGHA8F8",
        "outputId": "29f5b429-6d8a-40f5-ceea-1263cb7d5444"
      },
      "execution_count": 15,
      "outputs": [
        {
          "output_type": "execute_result",
          "data": {
            "text/plain": [
              "(0.7, 0.3)"
            ]
          },
          "metadata": {},
          "execution_count": 15
        }
      ]
    },
    {
      "cell_type": "markdown",
      "source": [
        "## making predictions using torch.inference_mode()\n",
        "\n",
        "* to check model's predictive power, let's see how well it predicts y_test based on x_test\n",
        "\n",
        "* when we will pass data through our model, it is going to run it through forward() method. "
      ],
      "metadata": {
        "id": "p6E9s1kqB_gM"
      }
    },
    {
      "cell_type": "code",
      "source": [
        "X_test, y_test"
      ],
      "metadata": {
        "colab": {
          "base_uri": "https://localhost:8080/"
        },
        "id": "aF1x-Gu-BL87",
        "outputId": "3b030b6f-a13f-4b64-e57c-c4a8db24cfe8"
      },
      "execution_count": 16,
      "outputs": [
        {
          "output_type": "execute_result",
          "data": {
            "text/plain": [
              "(tensor([[0.8000],\n",
              "         [0.8200],\n",
              "         [0.8400],\n",
              "         [0.8600],\n",
              "         [0.8800],\n",
              "         [0.9000],\n",
              "         [0.9200],\n",
              "         [0.9400],\n",
              "         [0.9600],\n",
              "         [0.9800]]), tensor([[0.8600],\n",
              "         [0.8740],\n",
              "         [0.8880],\n",
              "         [0.9020],\n",
              "         [0.9160],\n",
              "         [0.9300],\n",
              "         [0.9440],\n",
              "         [0.9580],\n",
              "         [0.9720],\n",
              "         [0.9860]]))"
            ]
          },
          "metadata": {},
          "execution_count": 16
        }
      ]
    },
    {
      "cell_type": "code",
      "source": [
        "# make predictions with model\n",
        "\n",
        "# inference_mode() turns off the gradient tracking\n",
        "# it makes ur code faster\n",
        "with torch.inference_mode():\n",
        "  y_preds = model_0 (X_test)\n",
        "y_preds"
      ],
      "metadata": {
        "colab": {
          "base_uri": "https://localhost:8080/"
        },
        "id": "ujCBYMimCn65",
        "outputId": "df339486-567e-407e-fd8e-0a36a50f7c31"
      },
      "execution_count": 17,
      "outputs": [
        {
          "output_type": "execute_result",
          "data": {
            "text/plain": [
              "tensor([[0.3982],\n",
              "        [0.4049],\n",
              "        [0.4116],\n",
              "        [0.4184],\n",
              "        [0.4251],\n",
              "        [0.4318],\n",
              "        [0.4386],\n",
              "        [0.4453],\n",
              "        [0.4520],\n",
              "        [0.4588]])"
            ]
          },
          "metadata": {},
          "execution_count": 17
        }
      ]
    },
    {
      "cell_type": "code",
      "source": [
        "y_test - y_preds"
      ],
      "metadata": {
        "colab": {
          "base_uri": "https://localhost:8080/"
        },
        "id": "awHWtigSC2gT",
        "outputId": "ff74194b-6d62-4864-e7e3-fd4bb6a0e8b0"
      },
      "execution_count": 18,
      "outputs": [
        {
          "output_type": "execute_result",
          "data": {
            "text/plain": [
              "tensor([[0.4618],\n",
              "        [0.4691],\n",
              "        [0.4764],\n",
              "        [0.4836],\n",
              "        [0.4909],\n",
              "        [0.4982],\n",
              "        [0.5054],\n",
              "        [0.5127],\n",
              "        [0.5200],\n",
              "        [0.5272]])"
            ]
          },
          "metadata": {},
          "execution_count": 18
        }
      ]
    },
    {
      "cell_type": "code",
      "source": [
        "plot_predictions(predictions = y_preds)\n"
      ],
      "metadata": {
        "colab": {
          "base_uri": "https://localhost:8080/",
          "height": 428
        },
        "id": "cwC8EdfWC_iE",
        "outputId": "5ad0fc06-59d2-42db-925c-e72fef4e0c90"
      },
      "execution_count": 19,
      "outputs": [
        {
          "output_type": "display_data",
          "data": {
            "text/plain": [
              "<Figure size 720x504 with 1 Axes>"
            ],
            "image/png": "[encoded data removed]"
          },
          "metadata": {
            "needs_background": "light"
          }
        }
      ]
    },
    {
      "cell_type": "code",
      "source": [
        "y_preds=model_0(X_test)\n",
        "y_preds\n",
        "# it has gradient tracking function"
      ],
      "metadata": {
        "colab": {
          "base_uri": "https://localhost:8080/"
        },
        "id": "zCFKZ2B4FD7K",
        "outputId": "1ada3418-6f04-4efb-b41c-49b4cd3f957b"
      },
      "execution_count": 20,
      "outputs": [
        {
          "output_type": "execute_result",
          "data": {
            "text/plain": [
              "tensor([[0.3982],\n",
              "        [0.4049],\n",
              "        [0.4116],\n",
              "        [0.4184],\n",
              "        [0.4251],\n",
              "        [0.4318],\n",
              "        [0.4386],\n",
              "        [0.4453],\n",
              "        [0.4520],\n",
              "        [0.4588]], grad_fn=<AddBackward0>)"
            ]
          },
          "metadata": {},
          "execution_count": 20
        }
      ]
    },
    {
      "cell_type": "markdown",
      "source": [
        "# Train Model\n",
        "\n",
        "* The whole idea of training is for a model to move from some *unknown* parameters (These may be random) to some known parameters\n",
        "\n",
        "* or in other world from a poor representation of data to a better representation of the data\n",
        "\n",
        "* one way to measure how poor or good your model do perform can be identified using loss function\n",
        "\n",
        "Things we need to train:\n",
        " \n",
        "* loss function/cost function/ criterion\n",
        "* optimizer - takes into account the loss of a model and adjust the model's parameters ( w, b)\n",
        "\n",
        "For PyTorch, we need\n",
        "1. A training Loop \n",
        "2. A testing Lopp"
      ],
      "metadata": {
        "id": "jytL47J2A0Ix"
      }
    },
    {
      "cell_type": "code",
      "source": [
        "model_0.parameters()"
      ],
      "metadata": {
        "id": "VIYnIc5FJm8P",
        "colab": {
          "base_uri": "https://localhost:8080/"
        },
        "outputId": "e19f8e59-9dea-4829-9a62-2752b256e3bc"
      },
      "execution_count": 21,
      "outputs": [
        {
          "output_type": "execute_result",
          "data": {
            "text/plain": [
              "<generator object Module.parameters at 0x7f822e3c94a0>"
            ]
          },
          "metadata": {},
          "execution_count": 21
        }
      ]
    },
    {
      "cell_type": "code",
      "source": [
        "list(model_0.parameters())"
      ],
      "metadata": {
        "colab": {
          "base_uri": "https://localhost:8080/"
        },
        "id": "JdzZPlCGCgnj",
        "outputId": "6fb5df6e-0e01-4540-f534-b1df4e4659d4"
      },
      "execution_count": 22,
      "outputs": [
        {
          "output_type": "execute_result",
          "data": {
            "text/plain": [
              "[Parameter containing:\n",
              " tensor([0.3367], requires_grad=True), Parameter containing:\n",
              " tensor([0.1288], requires_grad=True)]"
            ]
          },
          "metadata": {},
          "execution_count": 22
        }
      ]
    },
    {
      "cell_type": "code",
      "source": [
        "model_0.state_dict()"
      ],
      "metadata": {
        "colab": {
          "base_uri": "https://localhost:8080/"
        },
        "id": "Y583Q4d3CmDn",
        "outputId": "8bbe15c7-c592-4e7d-e105-7e9669dc2a90"
      },
      "execution_count": 23,
      "outputs": [
        {
          "output_type": "execute_result",
          "data": {
            "text/plain": [
              "OrderedDict([('weights', tensor([0.3367])), ('bias', tensor([0.1288]))])"
            ]
          },
          "metadata": {},
          "execution_count": 23
        }
      ]
    },
    {
      "cell_type": "markdown",
      "source": [
        "##Loss Function and Optimizer"
      ],
      "metadata": {
        "id": "vcvVfdrNJgOV"
      }
    },
    {
      "cell_type": "code",
      "source": [
        "# L1loss means Mean absoulute error (MAE)\n",
        "#L2loss means Mean Square error (MSE)\n",
        "#both are used for regression problem\n",
        "#binary cross entropy loss is used for classification problem\n",
        "\n",
        "# setup a loss function\n",
        "nn_loss = nn.L1Loss()\n",
        "# nn_loss\n",
        "\n",
        "# our target is to minimize the value of the loss function by training\n",
        "# loss function and optimizer works as a package and work together\n",
        "# optimizer gives the model parameters w,b to minimize the loss function\n",
        "\n",
        "# most popular optimizer - SGD ( Stochastic/ Random Gradient Descent)\n",
        "# takes random number to improve the model\n",
        "# and Adam optimizer\n",
        "\n",
        "#the smaller the learning rate, the smaller the change in parameters\n",
        "# the larger the learning rate, the larger the change in parameters\n",
        "\n",
        "# setup an optimizer (SGD)\n",
        "optimizer = torch.optim.SGD(params=model_0.parameters(),\n",
        "                            lr=0.001)\n",
        "\n"
      ],
      "metadata": {
        "id": "uRprDAGWCvYG"
      },
      "execution_count": 24,
      "outputs": []
    },
    {
      "cell_type": "markdown",
      "source": [
        "### Building a training and testing loop in PyTorch\n",
        "\n",
        "A couple of things we need in a training loop:\n",
        "\n",
        "0. Loop through the data and do... ( doing all of the 2-5 steps within the loop)\n",
        "1. forward pass ( this involves data moving through our model's \"forward()\" functions-also called forward pass. Make predictions on data\n",
        "2. calculate the loss ( compare forward pass predictions to ground truth labels) \n",
        "3. optimizer zero grad\n",
        "4. Loss backward - move backwards through the network to calculate the gradient of each of the parameters of our model with respect to the loss  **Backpropagation**\n",
        "5. Optimizer step-( to minimize the gradient) use the optimizer to adjust our model's parameter to try and improve the loss. **Gradient Descent** make the gradients down to zero\n",
        "\n",
        "\n",
        "\n"
      ],
      "metadata": {
        "id": "YeruM2vlZEQt"
      }
    },
    {
      "cell_type": "code",
      "source": [
        "# an Epoch is one loop through the data\n",
        "epochs = 200\n",
        "\n",
        "#track different values\n",
        "epoch_count =[]\n",
        "loss_values =[]\n",
        "test_loss_values=[]\n",
        "\n",
        "### Training\n",
        "\n",
        "# step 0- loop through the data\n",
        "for epoch in range(epochs):\n",
        "\n",
        "  #set the model to training mode\n",
        "  model_0.train() # training mode in PyTorch sets all the parameters that require gradients to require gradients\n",
        "  \n",
        "  # step 1- Forward Propagation\n",
        "  y_pred = model_0(X_train)\n",
        "  \n",
        "  #step 2 - calculate the loss function\n",
        "  loss = nn_loss(y_pred, y_train)\n",
        "  # print(f\"Loss: {loss}\")\n",
        "\n",
        "  #step 3- calculate the zero grad\n",
        "  optimizer.zero_grad()\n",
        "\n",
        "  #step 4- perform backpropagation on the loss with respect to the parameters of the model\n",
        "  loss.backward()\n",
        "\n",
        "  #step 5- step the optimizer ( perform gradient descent)\n",
        "\n",
        "  optimizer.step()\n",
        "\n",
        "\n",
        "\n",
        "  ### Testing\n",
        "  model_0.eval() #turns off gradient tracking\n",
        "  with torch.inference_mode():\n",
        "    #1. doing the forward pass\n",
        "    test_pred = model_0(X_test)\n",
        "    #2. calculate the test loss\n",
        "    test_loss =nn_loss(test_pred,y_test)\n",
        "  \n",
        "  # print out what's happening \n",
        "  if epoch % 10==0:\n",
        "    epoch_count.append(epoch)\n",
        "    loss_values.append(loss)\n",
        "    test_loss_values.append(test_loss)\n",
        "    print(f\"Epoch: {epoch} , Loss: {loss}, Test Loss: {test_loss}\")\n",
        "    print(model_0.state_dict())\n",
        "\n",
        "  #print out model state_dict()\n",
        "  # print(model_0.state_dict())\n",
        "\n",
        "\n",
        "\n"
      ],
      "metadata": {
        "id": "zgh5zqChKWag",
        "colab": {
          "base_uri": "https://localhost:8080/"
        },
        "outputId": "0496eb03-be8f-48ee-dcc6-70b6c99f2013"
      },
      "execution_count": 25,
      "outputs": [
        {
          "output_type": "stream",
          "name": "stdout",
          "text": [
            "Epoch: 0 , Loss: 0.31288138031959534, Test Loss: 0.4931890368461609\n",
            "OrderedDict([('weights', tensor([0.3371])), ('bias', tensor([0.1298]))])\n",
            "Epoch: 10 , Loss: 0.3013603389263153, Test Loss: 0.4797181189060211\n",
            "OrderedDict([('weights', tensor([0.3410])), ('bias', tensor([0.1398]))])\n",
            "Epoch: 20 , Loss: 0.28983938694000244, Test Loss: 0.4662471413612366\n",
            "OrderedDict([('weights', tensor([0.3449])), ('bias', tensor([0.1498]))])\n",
            "Epoch: 30 , Loss: 0.2783183455467224, Test Loss: 0.4527761936187744\n",
            "OrderedDict([('weights', tensor([0.3488])), ('bias', tensor([0.1598]))])\n",
            "Epoch: 40 , Loss: 0.26679736375808716, Test Loss: 0.43930521607398987\n",
            "OrderedDict([('weights', tensor([0.3527])), ('bias', tensor([0.1698]))])\n",
            "Epoch: 50 , Loss: 0.2552763819694519, Test Loss: 0.4258342385292053\n",
            "OrderedDict([('weights', tensor([0.3566])), ('bias', tensor([0.1798]))])\n",
            "Epoch: 60 , Loss: 0.24375538527965546, Test Loss: 0.41236335039138794\n",
            "OrderedDict([('weights', tensor([0.3605])), ('bias', tensor([0.1898]))])\n",
            "Epoch: 70 , Loss: 0.232234388589859, Test Loss: 0.398892343044281\n",
            "OrderedDict([('weights', tensor([0.3644])), ('bias', tensor([0.1998]))])\n",
            "Epoch: 80 , Loss: 0.22071340680122375, Test Loss: 0.38542139530181885\n",
            "OrderedDict([('weights', tensor([0.3683])), ('bias', tensor([0.2098]))])\n",
            "Epoch: 90 , Loss: 0.2091923952102661, Test Loss: 0.3719504475593567\n",
            "OrderedDict([('weights', tensor([0.3722])), ('bias', tensor([0.2198]))])\n",
            "Epoch: 100 , Loss: 0.19767141342163086, Test Loss: 0.35847947001457214\n",
            "OrderedDict([('weights', tensor([0.3761])), ('bias', tensor([0.2298]))])\n",
            "Epoch: 110 , Loss: 0.18615040183067322, Test Loss: 0.34500852227211\n",
            "OrderedDict([('weights', tensor([0.3800])), ('bias', tensor([0.2398]))])\n",
            "Epoch: 120 , Loss: 0.17462942004203796, Test Loss: 0.33153754472732544\n",
            "OrderedDict([('weights', tensor([0.3839])), ('bias', tensor([0.2498]))])\n",
            "Epoch: 130 , Loss: 0.16310855746269226, Test Loss: 0.3180667459964752\n",
            "OrderedDict([('weights', tensor([0.3878])), ('bias', tensor([0.2598]))])\n",
            "Epoch: 140 , Loss: 0.15158770978450775, Test Loss: 0.304595947265625\n",
            "OrderedDict([('weights', tensor([0.3917])), ('bias', tensor([0.2698]))])\n",
            "Epoch: 150 , Loss: 0.14006686210632324, Test Loss: 0.2911251187324524\n",
            "OrderedDict([('weights', tensor([0.3956])), ('bias', tensor([0.2798]))])\n",
            "Epoch: 160 , Loss: 0.12854602932929993, Test Loss: 0.2776543200016022\n",
            "OrderedDict([('weights', tensor([0.3995])), ('bias', tensor([0.2898]))])\n",
            "Epoch: 170 , Loss: 0.11702518165111542, Test Loss: 0.26418352127075195\n",
            "OrderedDict([('weights', tensor([0.4034])), ('bias', tensor([0.2998]))])\n",
            "Epoch: 180 , Loss: 0.10654274374246597, Test Loss: 0.251315176486969\n",
            "OrderedDict([('weights', tensor([0.4073])), ('bias', tensor([0.3092]))])\n",
            "Epoch: 190 , Loss: 0.09747617691755295, Test Loss: 0.2392154484987259\n",
            "OrderedDict([('weights', tensor([0.4112])), ('bias', tensor([0.3179]))])\n"
          ]
        }
      ]
    },
    {
      "cell_type": "code",
      "source": [
        "# plot the loss curves\n",
        "import numpy as np\n",
        "plt.plot(epoch_count,np.array(torch.tensor(loss_values).numpy()), label=\"Train Loss\")\n",
        "plt.plot(epoch_count, test_loss_values, label=\"Test Loss\")\n",
        "plt.title(\"Training and Test Loss curves\")\n",
        "plt.ylabel(\"Loss\")\n",
        "plt.xlabel(\"Epoch\")\n",
        "plt.legend()"
      ],
      "metadata": {
        "colab": {
          "base_uri": "https://localhost:8080/",
          "height": 312
        },
        "id": "euYtRb8-RUtU",
        "outputId": "cd2b9263-6f2d-424c-efa1-72fd1071cc21"
      },
      "execution_count": 26,
      "outputs": [
        {
          "output_type": "execute_result",
          "data": {
            "text/plain": [
              "<matplotlib.legend.Legend at 0x7f822e8c65e0>"
            ]
          },
          "metadata": {},
          "execution_count": 26
        },
        {
          "output_type": "display_data",
          "data": {
            "text/plain": [
              "<Figure size 432x288 with 1 Axes>"
            ],
            "image/png": "[encoded data removed]"
          },
          "metadata": {
            "needs_background": "light"
          }
        }
      ]
    },
    {
      "cell_type": "code",
      "source": [
        "model_0.state_dict()"
      ],
      "metadata": {
        "colab": {
          "base_uri": "https://localhost:8080/"
        },
        "id": "i8x1rYSDEHMo",
        "outputId": "c996f795-8d34-4c5e-fe87-1c6bbb0b850a"
      },
      "execution_count": 27,
      "outputs": [
        {
          "output_type": "execute_result",
          "data": {
            "text/plain": [
              "OrderedDict([('weights', tensor([0.4146])), ('bias', tensor([0.3250]))])"
            ]
          },
          "metadata": {},
          "execution_count": 27
        }
      ]
    },
    {
      "cell_type": "code",
      "source": [
        "weight, bias"
      ],
      "metadata": {
        "colab": {
          "base_uri": "https://localhost:8080/"
        },
        "id": "4SpalnILEK1i",
        "outputId": "61ae379f-2d1f-4042-e75b-eecc42c7352f"
      },
      "execution_count": 28,
      "outputs": [
        {
          "output_type": "execute_result",
          "data": {
            "text/plain": [
              "(0.7, 0.3)"
            ]
          },
          "metadata": {},
          "execution_count": 28
        }
      ]
    },
    {
      "cell_type": "code",
      "source": [
        "with torch.inference_mode():\n",
        "  y_preds_new =model_0(X_test)"
      ],
      "metadata": {
        "id": "jNckJg4PElRM"
      },
      "execution_count": 29,
      "outputs": []
    },
    {
      "cell_type": "code",
      "source": [
        "plot_predictions(predictions=y_preds_new)"
      ],
      "metadata": {
        "colab": {
          "base_uri": "https://localhost:8080/",
          "height": 428
        },
        "id": "LD1OyCzNGU6M",
        "outputId": "60da83f4-a1b3-4b93-e267-5ee37c3b0998"
      },
      "execution_count": 30,
      "outputs": [
        {
          "output_type": "display_data",
          "data": {
            "text/plain": [
              "<Figure size 720x504 with 1 Axes>"
            ],
            "image/png": "[encoded data removed]"
          },
          "metadata": {
            "needs_background": "light"
          }
        }
      ]
    },
    {
      "cell_type": "code",
      "source": [
        "plot_predictions(predictions =y_preds_new)"
      ],
      "metadata": {
        "colab": {
          "base_uri": "https://localhost:8080/",
          "height": 428
        },
        "id": "TS3lh2AEGZF5",
        "outputId": "6e97724b-4272-4866-f567-3de48de70fac"
      },
      "execution_count": 31,
      "outputs": [
        {
          "output_type": "display_data",
          "data": {
            "text/plain": [
              "<Figure size 720x504 with 1 Axes>"
            ],
            "image/png": "[encoded data removed]"
          },
          "metadata": {
            "needs_background": "light"
          }
        }
      ]
    },
    {
      "cell_type": "code",
      "source": [
        "model_0.state_dict()"
      ],
      "metadata": {
        "colab": {
          "base_uri": "https://localhost:8080/"
        },
        "id": "TqfRI_slHKKr",
        "outputId": "6a2408ac-a8b9-4f2c-a143-e041e9c28c53"
      },
      "execution_count": 32,
      "outputs": [
        {
          "output_type": "execute_result",
          "data": {
            "text/plain": [
              "OrderedDict([('weights', tensor([0.4146])), ('bias', tensor([0.3250]))])"
            ]
          },
          "metadata": {},
          "execution_count": 32
        }
      ]
    },
    {
      "cell_type": "code",
      "source": [
        "weight, bias"
      ],
      "metadata": {
        "colab": {
          "base_uri": "https://localhost:8080/"
        },
        "id": "DYG43kPfMbua",
        "outputId": "33661b3c-a9a8-4123-9cc8-fc0c668ea07f"
      },
      "execution_count": 33,
      "outputs": [
        {
          "output_type": "execute_result",
          "data": {
            "text/plain": [
              "(0.7, 0.3)"
            ]
          },
          "metadata": {},
          "execution_count": 33
        }
      ]
    },
    {
      "cell_type": "markdown",
      "source": [
        "##Saving a model in PyTorch\n",
        "\n",
        "There are three main methods for saving and loading models in PyTorch\n",
        "\n",
        "1. \"torch.save()\", allow to save PyTorch object in Python's pickle format\n",
        "2. \"torch.load()\", allows to load a saved PyTorch object\n",
        "3. \"torch.nn.Module.load_state_dict()\", this allows to load a save models state dictionary"
      ],
      "metadata": {
        "id": "aAQdIYmnYVgy"
      }
    },
    {
      "cell_type": "code",
      "source": [
        "model_0.state_dict()"
      ],
      "metadata": {
        "colab": {
          "base_uri": "https://localhost:8080/"
        },
        "id": "1BARrq84MeOp",
        "outputId": "c0aeb698-cad5-48a6-d47e-4c5272f767b9"
      },
      "execution_count": 34,
      "outputs": [
        {
          "output_type": "execute_result",
          "data": {
            "text/plain": [
              "OrderedDict([('weights', tensor([0.4146])), ('bias', tensor([0.3250]))])"
            ]
          },
          "metadata": {},
          "execution_count": 34
        }
      ]
    },
    {
      "cell_type": "code",
      "source": [
        "# saving our PyTorch model\n",
        "\n",
        "from pathlib import Path\n",
        "\n",
        "#1. create models directory\n",
        "MODEL_PATH=Path(\"Models\")\n",
        "MODEL_PATH.mkdir(parents=True, exist_ok =True)\n",
        "\n",
        "#2. create model save path\n",
        "MODEL_NAME= \"01_PyTorch_Workflow_Amit_model_0.pth\"\n",
        "MODEL_SAVE_PATH= MODEL_PATH/MODEL_NAME\n",
        "\n",
        "# 3. Save the model state dict\n",
        "print(f\"Saving model to: {MODEL_SAVE_PATH}\")\n",
        "torch.save(obj=model_0.state_dict(),f=MODEL_SAVE_PATH)"
      ],
      "metadata": {
        "colab": {
          "base_uri": "https://localhost:8080/"
        },
        "id": "jr9VvciYZCyj",
        "outputId": "8e603bf3-286f-4dd8-a9c0-a5db24b64996"
      },
      "execution_count": 35,
      "outputs": [
        {
          "output_type": "stream",
          "name": "stdout",
          "text": [
            "Saving model to: Models/01_PyTorch_Workflow_Amit_model_0.pth\n"
          ]
        }
      ]
    },
    {
      "cell_type": "code",
      "source": [
        "model_0"
      ],
      "metadata": {
        "colab": {
          "base_uri": "https://localhost:8080/"
        },
        "id": "-fQDH5pyckrs",
        "outputId": "ee7374a7-f14e-456c-9bbe-ea86382b24fd"
      },
      "execution_count": 36,
      "outputs": [
        {
          "output_type": "execute_result",
          "data": {
            "text/plain": [
              "LinearRegressionModel()"
            ]
          },
          "metadata": {},
          "execution_count": 36
        }
      ]
    },
    {
      "cell_type": "code",
      "source": [
        "!ls -l Models\n"
      ],
      "metadata": {
        "colab": {
          "base_uri": "https://localhost:8080/"
        },
        "id": "WyFAuFWCcrYO",
        "outputId": "295ff338-bd2b-48ed-9f32-618f9d718a96"
      },
      "execution_count": 37,
      "outputs": [
        {
          "output_type": "stream",
          "name": "stdout",
          "text": [
            "total 8\n",
            "-rw-r--r-- 1 root root 1227 Jan 11 09:07 01_PyTorch_Workflow_Amit_model_0.pth\n",
            "-rw-r--r-- 1 root root 1271 Jan 11 08:50 01_pytorch_workflow_amit_v2.pth\n"
          ]
        }
      ]
    },
    {
      "cell_type": "markdown",
      "source": [
        "###Loading a PyTorch model\n",
        "\n",
        "since we saved our model state_dict() rather than the entire model, we'll create new instance of our model class and load state_dict() on that"
      ],
      "metadata": {
        "id": "Ra3B3oqDD0Bk"
      }
    },
    {
      "cell_type": "code",
      "source": [
        "model_0.state_dict()"
      ],
      "metadata": {
        "colab": {
          "base_uri": "https://localhost:8080/"
        },
        "id": "jcTboOaOc7BM",
        "outputId": "6c169e7b-59ee-4858-8ece-a12a82de8487"
      },
      "execution_count": 38,
      "outputs": [
        {
          "output_type": "execute_result",
          "data": {
            "text/plain": [
              "OrderedDict([('weights', tensor([0.4146])), ('bias', tensor([0.3250]))])"
            ]
          },
          "metadata": {},
          "execution_count": 38
        }
      ]
    },
    {
      "cell_type": "code",
      "source": [
        "# to load in a saved state_dict we have to initiate a new instance of our model class\n",
        "loaded_model_0=LinearRegressionModel()\n",
        "#load the saved_dict of model_0 \n",
        "loaded_model_0.load_state_dict(torch.load(f=MODEL_SAVE_PATH))\n",
        "\n"
      ],
      "metadata": {
        "colab": {
          "base_uri": "https://localhost:8080/"
        },
        "id": "OBIVcRg0EMwy",
        "outputId": "184baed5-80b5-4a4a-deaa-9a89985e1513"
      },
      "execution_count": 39,
      "outputs": [
        {
          "output_type": "execute_result",
          "data": {
            "text/plain": [
              "<All keys matched successfully>"
            ]
          },
          "metadata": {},
          "execution_count": 39
        }
      ]
    },
    {
      "cell_type": "code",
      "source": [
        "loaded_model_0.state_dict()"
      ],
      "metadata": {
        "colab": {
          "base_uri": "https://localhost:8080/"
        },
        "id": "IdNY-qUcEsN3",
        "outputId": "c4e38528-f2db-4e64-9bd6-593cf4f17e7c"
      },
      "execution_count": 40,
      "outputs": [
        {
          "output_type": "execute_result",
          "data": {
            "text/plain": [
              "OrderedDict([('weights', tensor([0.4146])), ('bias', tensor([0.3250]))])"
            ]
          },
          "metadata": {},
          "execution_count": 40
        }
      ]
    },
    {
      "cell_type": "code",
      "source": [
        "# make some predictions with our loaded model\n",
        "\n",
        "loaded_model_0.eval()\n",
        "with torch.inference_mode():\n",
        "  loaded_model_preds = loaded_model_0(X_test)\n",
        "loaded_model_preds\n"
      ],
      "metadata": {
        "colab": {
          "base_uri": "https://localhost:8080/"
        },
        "id": "hzsRqC8gFtak",
        "outputId": "12d76ebe-675a-4b38-e5d4-dd648f4bb798"
      },
      "execution_count": 41,
      "outputs": [
        {
          "output_type": "execute_result",
          "data": {
            "text/plain": [
              "tensor([[0.6566],\n",
              "        [0.6649],\n",
              "        [0.6732],\n",
              "        [0.6815],\n",
              "        [0.6898],\n",
              "        [0.6981],\n",
              "        [0.7064],\n",
              "        [0.7147],\n",
              "        [0.7230],\n",
              "        [0.7313]])"
            ]
          },
          "metadata": {},
          "execution_count": 41
        }
      ]
    },
    {
      "cell_type": "code",
      "source": [
        "model_0.eval()\n",
        "with torch.inference_mode():\n",
        "  y_preds=model_0(X_test)\n",
        "\n",
        "y_preds"
      ],
      "metadata": {
        "colab": {
          "base_uri": "https://localhost:8080/"
        },
        "id": "OqqN3Bd4Grn5",
        "outputId": "b7186e85-f3e4-47ec-cc22-483be1be5003"
      },
      "execution_count": 42,
      "outputs": [
        {
          "output_type": "execute_result",
          "data": {
            "text/plain": [
              "tensor([[0.6566],\n",
              "        [0.6649],\n",
              "        [0.6732],\n",
              "        [0.6815],\n",
              "        [0.6898],\n",
              "        [0.6981],\n",
              "        [0.7064],\n",
              "        [0.7147],\n",
              "        [0.7230],\n",
              "        [0.7313]])"
            ]
          },
          "metadata": {},
          "execution_count": 42
        }
      ]
    },
    {
      "cell_type": "code",
      "source": [
        "# comparing loaded model preds with original model preds\n",
        "\n",
        "y_preds == loaded_model_preds"
      ],
      "metadata": {
        "colab": {
          "base_uri": "https://localhost:8080/"
        },
        "id": "COW5QX3lF5eB",
        "outputId": "57dd65b1-5b8b-4154-ae7d-82859f28a78f"
      },
      "execution_count": 43,
      "outputs": [
        {
          "output_type": "execute_result",
          "data": {
            "text/plain": [
              "tensor([[True],\n",
              "        [True],\n",
              "        [True],\n",
              "        [True],\n",
              "        [True],\n",
              "        [True],\n",
              "        [True],\n",
              "        [True],\n",
              "        [True],\n",
              "        [True]])"
            ]
          },
          "metadata": {},
          "execution_count": 43
        }
      ]
    },
    {
      "cell_type": "markdown",
      "source": [
        "#Putting it all together\n",
        "\n",
        "all in one place"
      ],
      "metadata": {
        "id": "CFF_K76spenP"
      }
    },
    {
      "cell_type": "code",
      "source": [
        "# import PyTorch and matplotlib\n",
        "import torch\n",
        "from torch import nn\n",
        "import matplotlib.pyplot as plt\n",
        "#check PyTorch version\n",
        "torch.__version__"
      ],
      "metadata": {
        "id": "GXY4Au6uGeeV",
        "colab": {
          "base_uri": "https://localhost:8080/",
          "height": 36
        },
        "outputId": "d30aaf1d-825c-44bf-96ef-f9e80a6c9f11"
      },
      "execution_count": 44,
      "outputs": [
        {
          "output_type": "execute_result",
          "data": {
            "text/plain": [
              "'1.13.0+cu116'"
            ],
            "application/vnd.google.colaboratory.intrinsic+json": {
              "type": "string"
            }
          },
          "metadata": {},
          "execution_count": 44
        }
      ]
    },
    {
      "cell_type": "markdown",
      "source": [
        "### create device agnostic code\n",
        "This means if we've got access to a gpum our code will use it (for potentially faster computing)\n",
        "\n",
        "if no GPU is available, the code will default use CPU"
      ],
      "metadata": {
        "id": "AT8AyKElqYr4"
      }
    },
    {
      "cell_type": "code",
      "source": [
        "#setup device agnostic code\n",
        "device = \"cuda\" if torch.cuda.is_available() else \"cpu\"\n",
        "print(f\"Device ={device}\")"
      ],
      "metadata": {
        "colab": {
          "base_uri": "https://localhost:8080/"
        },
        "id": "F4QN5-QdqohB",
        "outputId": "42a083e8-2b75-467b-c3a9-f08310977229"
      },
      "execution_count": 45,
      "outputs": [
        {
          "output_type": "stream",
          "name": "stdout",
          "text": [
            "Device =cuda\n"
          ]
        }
      ]
    },
    {
      "cell_type": "code",
      "source": [
        "!nvidia-smi"
      ],
      "metadata": {
        "colab": {
          "base_uri": "https://localhost:8080/"
        },
        "id": "XmaJBPsDrHlV",
        "outputId": "c9cec091-4838-4134-b698-5b4ed43f3985"
      },
      "execution_count": 46,
      "outputs": [
        {
          "output_type": "stream",
          "name": "stdout",
          "text": [
            "Wed Jan 11 09:07:49 2023       \n",
            "+-----------------------------------------------------------------------------+\n",
            "| NVIDIA-SMI 460.32.03    Driver Version: 460.32.03    CUDA Version: 11.2     |\n",
            "|-------------------------------+----------------------+----------------------+\n",
            "| GPU  Name        Persistence-M| Bus-Id        Disp.A | Volatile Uncorr. ECC |\n",
            "| Fan  Temp  Perf  Pwr:Usage/Cap|         Memory-Usage | GPU-Util  Compute M. |\n",
            "|                               |                      |               MIG M. |\n",
            "|===============================+======================+======================|\n",
            "|   0  Tesla T4            Off  | 00000000:00:04.0 Off |                    0 |\n",
            "| N/A   75C    P8    10W /  70W |      3MiB / 15109MiB |      0%      Default |\n",
            "|                               |                      |                  N/A |\n",
            "+-------------------------------+----------------------+----------------------+\n",
            "                                                                               \n",
            "+-----------------------------------------------------------------------------+\n",
            "| Processes:                                                                  |\n",
            "|  GPU   GI   CI        PID   Type   Process name                  GPU Memory |\n",
            "|        ID   ID                                                   Usage      |\n",
            "|=============================================================================|\n",
            "|  No running processes found                                                 |\n",
            "+-----------------------------------------------------------------------------+\n"
          ]
        }
      ]
    },
    {
      "cell_type": "markdown",
      "source": [
        "### Data"
      ],
      "metadata": {
        "id": "Ti70fY64sDNh"
      }
    },
    {
      "cell_type": "code",
      "source": [
        "# create some data using some linear regression formula, y= weight * X +bias\n",
        "weight = 0.6\n",
        "bias =0.4\n",
        "\n",
        "#create range values\n",
        "start =0\n",
        "end =1\n",
        "step=0.02\n",
        "\n",
        "#create X and y (features and labels)\n",
        "X=torch.arange(start, end, step).unsqueeze(dim=1)\n",
        "y=weight * X +bias\n",
        "\n",
        "X[:10], y[:10]\n"
      ],
      "metadata": {
        "colab": {
          "base_uri": "https://localhost:8080/"
        },
        "id": "xWR5tk16rYKt",
        "outputId": "0398a80d-1424-4a8c-db48-c4ecb269571d"
      },
      "execution_count": 47,
      "outputs": [
        {
          "output_type": "execute_result",
          "data": {
            "text/plain": [
              "(tensor([[0.0000],\n",
              "         [0.0200],\n",
              "         [0.0400],\n",
              "         [0.0600],\n",
              "         [0.0800],\n",
              "         [0.1000],\n",
              "         [0.1200],\n",
              "         [0.1400],\n",
              "         [0.1600],\n",
              "         [0.1800]]), tensor([[0.4000],\n",
              "         [0.4120],\n",
              "         [0.4240],\n",
              "         [0.4360],\n",
              "         [0.4480],\n",
              "         [0.4600],\n",
              "         [0.4720],\n",
              "         [0.4840],\n",
              "         [0.4960],\n",
              "         [0.5080]]))"
            ]
          },
          "metadata": {},
          "execution_count": 47
        }
      ]
    },
    {
      "cell_type": "code",
      "source": [
        "#split data for test and train\n",
        "\n",
        "train_split = int(0.8*len(X))\n",
        "X_train, y_train = X[:train_split],y[:train_split]\n",
        "X_test, y_test =X[train_split:], y[train_split:]\n",
        "len(X_train), len(y_train), len(X_test), len(y_test)"
      ],
      "metadata": {
        "colab": {
          "base_uri": "https://localhost:8080/"
        },
        "id": "w5meodsPtE2b",
        "outputId": "3c137fdc-dd4a-4389-fa61-bdcc8fcf5c2b"
      },
      "execution_count": 48,
      "outputs": [
        {
          "output_type": "execute_result",
          "data": {
            "text/plain": [
              "(40, 40, 10, 10)"
            ]
          },
          "metadata": {},
          "execution_count": 48
        }
      ]
    },
    {
      "cell_type": "code",
      "source": [
        "# plot the data\n",
        "plot_predictions(X_train, y_train, X_test, y_test)"
      ],
      "metadata": {
        "colab": {
          "base_uri": "https://localhost:8080/",
          "height": 428
        },
        "id": "9TY3sS_8uMhq",
        "outputId": "830e72a3-faa4-4c91-bc5a-95468f800ea0"
      },
      "execution_count": 49,
      "outputs": [
        {
          "output_type": "display_data",
          "data": {
            "text/plain": [
              "<Figure size 720x504 with 1 Axes>"
            ],
            "image/png": "[encoded data removed]"
          },
          "metadata": {
            "needs_background": "light"
          }
        }
      ]
    },
    {
      "cell_type": "markdown",
      "source": [],
      "metadata": {
        "id": "JfwSnXVBuved"
      }
    },
    {
      "cell_type": "markdown",
      "source": [
        "### Building a PyTorch linear model"
      ],
      "metadata": {
        "id": "9r42h0wVu_9w"
      }
    },
    {
      "cell_type": "code",
      "source": [
        "# create a linear model by subclassing nn.Module\n",
        "class LinearRegressionModelV2(nn.Module):\n",
        "  #constructor\n",
        "  def __init__(self):\n",
        "    super().__init__()\n",
        "    # use nn.Linear() for creating the model parameters\n",
        "    self.linear_layer = nn.Linear(in_features =1, out_features=1)\n",
        "  \n",
        "  def forward(self,X):\n",
        "    return self.linear_layer(X)\n",
        "  \n",
        "#set the manual seed for reproducibility of the model\n",
        "torch.manual_seed(42)\n",
        "model_1 =LinearRegressionModelV2()\n",
        "model_1, model_1.state_dict()\n",
        "\n"
      ],
      "metadata": {
        "id": "3C2JbUpKuc6T",
        "colab": {
          "base_uri": "https://localhost:8080/"
        },
        "outputId": "27109da2-35f7-47f0-90a0-a4f246bfb73d"
      },
      "execution_count": 50,
      "outputs": [
        {
          "output_type": "execute_result",
          "data": {
            "text/plain": [
              "(LinearRegressionModelV2(\n",
              "   (linear_layer): Linear(in_features=1, out_features=1, bias=True)\n",
              " ),\n",
              " OrderedDict([('linear_layer.weight', tensor([[0.7645]])),\n",
              "              ('linear_layer.bias', tensor([0.8300]))]))"
            ]
          },
          "metadata": {},
          "execution_count": 50
        }
      ]
    },
    {
      "cell_type": "code",
      "source": [
        "# check the model current device\n",
        "next(model_1.parameters()).device"
      ],
      "metadata": {
        "colab": {
          "base_uri": "https://localhost:8080/"
        },
        "id": "qdB7fXsO0BrU",
        "outputId": "1cf19605-bf2a-4974-9c80-f9982603e76d"
      },
      "execution_count": 51,
      "outputs": [
        {
          "output_type": "execute_result",
          "data": {
            "text/plain": [
              "device(type='cpu')"
            ]
          },
          "metadata": {},
          "execution_count": 51
        }
      ]
    },
    {
      "cell_type": "code",
      "source": [
        "device"
      ],
      "metadata": {
        "colab": {
          "base_uri": "https://localhost:8080/",
          "height": 36
        },
        "id": "sKSbGTB01s85",
        "outputId": "f801fbbc-7742-477c-a4fe-beb91bb5d153"
      },
      "execution_count": 52,
      "outputs": [
        {
          "output_type": "execute_result",
          "data": {
            "text/plain": [
              "'cuda'"
            ],
            "application/vnd.google.colaboratory.intrinsic+json": {
              "type": "string"
            }
          },
          "metadata": {},
          "execution_count": 52
        }
      ]
    },
    {
      "cell_type": "code",
      "source": [
        "model_1.to(device)"
      ],
      "metadata": {
        "colab": {
          "base_uri": "https://localhost:8080/"
        },
        "id": "uJLha58l12ob",
        "outputId": "b51f4d52-f333-4b4d-b1f7-9816a0987274"
      },
      "execution_count": 53,
      "outputs": [
        {
          "output_type": "execute_result",
          "data": {
            "text/plain": [
              "LinearRegressionModelV2(\n",
              "  (linear_layer): Linear(in_features=1, out_features=1, bias=True)\n",
              ")"
            ]
          },
          "metadata": {},
          "execution_count": 53
        }
      ]
    },
    {
      "cell_type": "code",
      "source": [
        "next(model_1.parameters()).device"
      ],
      "metadata": {
        "colab": {
          "base_uri": "https://localhost:8080/"
        },
        "id": "JgHm1Xxy15vi",
        "outputId": "00bd3d0d-32c4-48be-b3e2-d9da5e5664b6"
      },
      "execution_count": 54,
      "outputs": [
        {
          "output_type": "execute_result",
          "data": {
            "text/plain": [
              "device(type='cuda', index=0)"
            ]
          },
          "metadata": {},
          "execution_count": 54
        }
      ]
    },
    {
      "cell_type": "code",
      "source": [],
      "metadata": {
        "id": "BPOiO_NY2CJp"
      },
      "execution_count": 54,
      "outputs": []
    },
    {
      "cell_type": "markdown",
      "source": [
        "### Training\n",
        "For training we need,\n",
        "1. Loss function\n",
        "2. Optimizer\n",
        "3. Training Loop building\n",
        "4. Testing Loop building"
      ],
      "metadata": {
        "id": "fiT3r_Gx2JOP"
      }
    },
    {
      "cell_type": "code",
      "source": [
        "# setup loss function\n",
        "loss_fn = nn.L1Loss()\n",
        "\n",
        "#setup the optimizer\n",
        "optimizer = torch.optim.Adam(params=model_1.parameters(),\n",
        "                             lr=0.01)"
      ],
      "metadata": {
        "id": "XcFDQEMF2LeZ"
      },
      "execution_count": 55,
      "outputs": []
    },
    {
      "cell_type": "code",
      "source": [
        "# training lopp\n",
        "\n",
        "torch.manual_seed(42)\n",
        "\n",
        "epochs =200\n",
        "\n",
        "#putting data on the target device  like the model\n",
        "#(device agnostic code for data)\n",
        "X_train= X_train.to(device)\n",
        "X_test = X_test.to(device)\n",
        "y_train = y_train.to(device)\n",
        "y_test = y_test.to(device)\n",
        "\n",
        "for epoch in range(epochs):\n",
        "  model_1.train()\n",
        "\n",
        "  #forward pass\n",
        "  y_pred = model_1(X_train)\n",
        "\n",
        "  # calculate the loss\n",
        "  loss = loss_fn(y_pred, y_train)\n",
        "\n",
        "  # optimizer zero grad\n",
        "  optimizer.zero_grad()\n",
        "\n",
        "  #perform backward propagation\n",
        "  loss.backward()\n",
        "\n",
        "  # optimizer step\n",
        "  optimizer.step()\n",
        "\n",
        "  #testing\n",
        "  model_1.eval()\n",
        "\n",
        "  with torch.inference_mode():\n",
        "    test_pred = model_1(X_test)\n",
        "    test_loss = loss_fn(test_pred, y_test)\n",
        "  \n",
        "  # printing\n",
        "  if epoch % 10==0:\n",
        "    print(f\"Epoch: {epoch}, Loss = {loss},test losss ={test_loss}\")\n",
        "\n",
        "\n"
      ],
      "metadata": {
        "id": "VAxSt-3x3U4-",
        "colab": {
          "base_uri": "https://localhost:8080/"
        },
        "outputId": "e805b8d1-869b-423b-c78b-97ac9de0f00c"
      },
      "execution_count": 56,
      "outputs": [
        {
          "output_type": "stream",
          "name": "stdout",
          "text": [
            "Epoch: 0, Loss = 0.494177907705307,test losss =0.5575472116470337\n",
            "Epoch: 10, Loss = 0.3551780581474304,test losss =0.3685474097728729\n",
            "Epoch: 20, Loss = 0.21617817878723145,test losss =0.17954757809638977\n",
            "Epoch: 30, Loss = 0.07717832177877426,test losss =0.010326123796403408\n",
            "Epoch: 40, Loss = 0.04721915349364281,test losss =0.1394377201795578\n",
            "Epoch: 50, Loss = 0.04124019294977188,test losss =0.10984499752521515\n",
            "Epoch: 60, Loss = 0.026154672726988792,test losss =0.03475777432322502\n",
            "Epoch: 70, Loss = 0.017659882083535194,test losss =0.035667549818754196\n",
            "Epoch: 80, Loss = 0.009614315815269947,test losss =0.021207159385085106\n",
            "Epoch: 90, Loss = 0.001864002668298781,test losss =0.0013659716350957751\n",
            "Epoch: 100, Loss = 0.0018354930216446519,test losss =0.004277026746422052\n",
            "Epoch: 110, Loss = 0.0006905838963575661,test losss =0.0004802107869181782\n",
            "Epoch: 120, Loss = 0.0005806222907267511,test losss =0.002042538020759821\n",
            "Epoch: 130, Loss = 0.0006521597388200462,test losss =0.0011421203380450606\n",
            "Epoch: 140, Loss = 0.002120673656463623,test losss =0.0015607059467583895\n",
            "Epoch: 150, Loss = 0.00024203509383369237,test losss =0.0018337309593334794\n",
            "Epoch: 160, Loss = 0.0018459365237504244,test losss =0.002130359411239624\n",
            "Epoch: 170, Loss = 0.000224333256483078,test losss =0.00035633446532301605\n",
            "Epoch: 180, Loss = 0.0004466935934033245,test losss =0.0018425703747197986\n",
            "Epoch: 190, Loss = 0.0002400569646852091,test losss =0.0012998104793950915\n"
          ]
        }
      ]
    },
    {
      "cell_type": "code",
      "source": [
        "# evaluate the model\n",
        "model_1.state_dict()"
      ],
      "metadata": {
        "colab": {
          "base_uri": "https://localhost:8080/"
        },
        "id": "6OU2JPIk7D7E",
        "outputId": "afc81ede-7528-48eb-be3f-b5dd79c7bf7a"
      },
      "execution_count": 57,
      "outputs": [
        {
          "output_type": "execute_result",
          "data": {
            "text/plain": [
              "OrderedDict([('linear_layer.weight', tensor([[0.5997]], device='cuda:0')),\n",
              "             ('linear_layer.bias', tensor([0.3996], device='cuda:0'))])"
            ]
          },
          "metadata": {},
          "execution_count": 57
        }
      ]
    },
    {
      "cell_type": "code",
      "source": [
        "weight, bias"
      ],
      "metadata": {
        "colab": {
          "base_uri": "https://localhost:8080/"
        },
        "id": "9n4QI2Nb7JXk",
        "outputId": "cccad1af-40c1-4d12-c99d-0e0a3edacded"
      },
      "execution_count": 58,
      "outputs": [
        {
          "output_type": "execute_result",
          "data": {
            "text/plain": [
              "(0.6, 0.4)"
            ]
          },
          "metadata": {},
          "execution_count": 58
        }
      ]
    },
    {
      "cell_type": "markdown",
      "source": [],
      "metadata": {
        "id": "E9EJ3gQf95Bi"
      }
    },
    {
      "cell_type": "markdown",
      "source": [
        "### making and evaluating predictions\n",
        "\n"
      ],
      "metadata": {
        "id": "KKu_kIGt97CE"
      }
    },
    {
      "cell_type": "code",
      "source": [
        "# turn the model into evaluation mode\n",
        "model_1.eval()\n",
        "\n",
        "# make predictions on the test data\n",
        "with torch.inference_mode():\n",
        "  y_pred =model_1(X_test)\n",
        "y_pred"
      ],
      "metadata": {
        "colab": {
          "base_uri": "https://localhost:8080/"
        },
        "id": "dRaZxs8N7K9e",
        "outputId": "4dc6525a-40cf-4b6e-bd44-f5040fb59a48"
      },
      "execution_count": 59,
      "outputs": [
        {
          "output_type": "execute_result",
          "data": {
            "text/plain": [
              "tensor([[0.8793],\n",
              "        [0.8913],\n",
              "        [0.9033],\n",
              "        [0.9153],\n",
              "        [0.9273],\n",
              "        [0.9393],\n",
              "        [0.9513],\n",
              "        [0.9633],\n",
              "        [0.9753],\n",
              "        [0.9872]], device='cuda:0')"
            ]
          },
          "metadata": {},
          "execution_count": 59
        }
      ]
    },
    {
      "cell_type": "code",
      "source": [
        "# check our model predictions visually\n",
        "plot_predictions(predictions=y_pred.cpu())"
      ],
      "metadata": {
        "colab": {
          "base_uri": "https://localhost:8080/",
          "height": 428
        },
        "id": "mG5frW-_-lVJ",
        "outputId": "9e6a6722-8526-49b4-951e-5b81006916ab"
      },
      "execution_count": 60,
      "outputs": [
        {
          "output_type": "display_data",
          "data": {
            "text/plain": [
              "<Figure size 720x504 with 1 Axes>"
            ],
            "image/png": "[encoded data removed]"
          },
          "metadata": {
            "needs_background": "light"
          }
        }
      ]
    },
    {
      "cell_type": "markdown",
      "source": [
        "### Saving and loading the trained model"
      ],
      "metadata": {
        "id": "xsdNUmCf_Tn1"
      }
    },
    {
      "cell_type": "code",
      "source": [
        "from pathlib import Path\n",
        "\n",
        "# create models directory\n",
        "MODEL_PATH =Path(\"Models\")\n",
        "MODEL_PATH.mkdir(parents =True, exist_ok=True)\n",
        "\n",
        "#create model save path\n",
        "MODEL_NAME = \"01_pytorch_workflow_amit_v2.pth\"\n",
        "MODEL_SAVE_PATH = MODEL_PATH / MODEL_NAME\n",
        "\n",
        "MODEL_SAVE_PATH\n",
        "\n",
        "# save thw model state dict\n",
        "print(f\"Saving model : {MODEL_SAVE_PATH}\")\n",
        "torch.save(obj=model_1.state_dict(),\n",
        "           f=MODEL_SAVE_PATH)\n",
        "\n",
        "\n",
        "\n"
      ],
      "metadata": {
        "colab": {
          "base_uri": "https://localhost:8080/"
        },
        "id": "uII55Kw9--0v",
        "outputId": "59a72710-e2d0-4680-8060-0e2af6345f46"
      },
      "execution_count": 61,
      "outputs": [
        {
          "output_type": "stream",
          "name": "stdout",
          "text": [
            "Saving model : Models/01_pytorch_workflow_amit_v2.pth\n"
          ]
        }
      ]
    },
    {
      "cell_type": "code",
      "source": [
        "#Load a PyTorch model\n",
        "\n",
        "#create a new instance of linear regression model V2\n",
        "loaded_model_1 = LinearRegressionModelV2()\n",
        "\n",
        "# load the saved model_1 state_dict\n",
        "loaded_model_1.load_state_dict(torch.load(MODEL_SAVE_PATH))\n",
        "\n",
        "#put the loaded model to the device\n",
        "loaded_model_1.to(device)\n"
      ],
      "metadata": {
        "colab": {
          "base_uri": "https://localhost:8080/"
        },
        "id": "cY5ZYUP7AitV",
        "outputId": "8125f842-6f28-4f84-a07f-b5fb7fb79a1c"
      },
      "execution_count": 62,
      "outputs": [
        {
          "output_type": "execute_result",
          "data": {
            "text/plain": [
              "LinearRegressionModelV2(\n",
              "  (linear_layer): Linear(in_features=1, out_features=1, bias=True)\n",
              ")"
            ]
          },
          "metadata": {},
          "execution_count": 62
        }
      ]
    },
    {
      "cell_type": "code",
      "source": [
        "next(loaded_model_1.parameters()).device"
      ],
      "metadata": {
        "colab": {
          "base_uri": "https://localhost:8080/"
        },
        "id": "XPrDQTqsBp6f",
        "outputId": "be7358ce-b374-4733-f051-f7134cca06b7"
      },
      "execution_count": 63,
      "outputs": [
        {
          "output_type": "execute_result",
          "data": {
            "text/plain": [
              "device(type='cuda', index=0)"
            ]
          },
          "metadata": {},
          "execution_count": 63
        }
      ]
    },
    {
      "cell_type": "code",
      "source": [
        "loaded_model_1.state_dict()\n"
      ],
      "metadata": {
        "colab": {
          "base_uri": "https://localhost:8080/"
        },
        "id": "Il1qmDkvCtnX",
        "outputId": "320fc3b4-752b-4e41-ce69-a3a4dc0b0796"
      },
      "execution_count": 64,
      "outputs": [
        {
          "output_type": "execute_result",
          "data": {
            "text/plain": [
              "OrderedDict([('linear_layer.weight', tensor([[0.5997]], device='cuda:0')),\n",
              "             ('linear_layer.bias', tensor([0.3996], device='cuda:0'))])"
            ]
          },
          "metadata": {},
          "execution_count": 64
        }
      ]
    },
    {
      "cell_type": "code",
      "source": [
        "# evaluate loaded model\n",
        "loaded_model_1.eval()\n",
        "with torch.inference_mode():\n",
        "  y_predi=loaded_model_1(X_test)\n",
        "\n",
        "y_predi\n"
      ],
      "metadata": {
        "colab": {
          "base_uri": "https://localhost:8080/"
        },
        "id": "aD0eA5yDC4OY",
        "outputId": "e173dcc7-a58d-4b1e-dbc3-d3e9d6a6529f"
      },
      "execution_count": 65,
      "outputs": [
        {
          "output_type": "execute_result",
          "data": {
            "text/plain": [
              "tensor([[0.8793],\n",
              "        [0.8913],\n",
              "        [0.9033],\n",
              "        [0.9153],\n",
              "        [0.9273],\n",
              "        [0.9393],\n",
              "        [0.9513],\n",
              "        [0.9633],\n",
              "        [0.9753],\n",
              "        [0.9872]], device='cuda:0')"
            ]
          },
          "metadata": {},
          "execution_count": 65
        }
      ]
    },
    {
      "cell_type": "code",
      "source": [
        "y_pred == y_predi"
      ],
      "metadata": {
        "colab": {
          "base_uri": "https://localhost:8080/"
        },
        "id": "3CZjYQXjD8ga",
        "outputId": "0e1a5503-fed7-4135-e3cc-8fb93686a5ae"
      },
      "execution_count": 66,
      "outputs": [
        {
          "output_type": "execute_result",
          "data": {
            "text/plain": [
              "tensor([[True],\n",
              "        [True],\n",
              "        [True],\n",
              "        [True],\n",
              "        [True],\n",
              "        [True],\n",
              "        [True],\n",
              "        [True],\n",
              "        [True],\n",
              "        [True]], device='cuda:0')"
            ]
          },
          "metadata": {},
          "execution_count": 66
        }
      ]
    },
    {
      "cell_type": "code",
      "source": [
        "plot_predictions(predictions=y_predi.cpu())"
      ],
      "metadata": {
        "colab": {
          "base_uri": "https://localhost:8080/",
          "height": 428
        },
        "id": "mOg3LRItDJEr",
        "outputId": "6546bd7d-15ca-4a13-9e3b-02ebdbdb837f"
      },
      "execution_count": 67,
      "outputs": [
        {
          "output_type": "display_data",
          "data": {
            "text/plain": [
              "<Figure size 720x504 with 1 Axes>"
            ],
            "image/png": "[encoded data removed]"
          },
          "metadata": {
            "needs_background": "light"
          }
        }
      ]
    },
    {
      "cell_type": "code",
      "source": [],
      "metadata": {
        "id": "zvMvhOIRDfvC"
      },
      "execution_count": 67,
      "outputs": []
    }
  ]
}